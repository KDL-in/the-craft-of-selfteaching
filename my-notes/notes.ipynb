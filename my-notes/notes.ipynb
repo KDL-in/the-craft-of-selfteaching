{
 "cells": [
  {
   "cell_type": "markdown",
   "metadata": {},
   "source": [
    "# 笔记"
   ]
  },
  {
   "cell_type": "markdown",
   "metadata": {},
   "source": [
    "## 入门与脱盲"
   ]
  },
  {
   "cell_type": "markdown",
   "metadata": {},
   "source": [
    "### 你只能靠阅读来学习\n",
    "\n",
    "总会听到这样的话\n",
    "> 有些东西书中学不到\n",
    "\n",
    "有时候我也这么想，直到这个观念在我脑中生长，我已经不知道受到它多少影响。所以现在，我会选择看视频，而不是纯阅读来入门。其实这话是有一定道理的，辩证地看，但是在容忍这样的观点的同时，你必须清楚的树立这样的信念，**阅读可以学习所有东西**。"
   ]
  },
  {
   "cell_type": "markdown",
   "metadata": {},
   "source": [
    "这其中的原因在于\n",
    "> 你很难找到会的人来教你，就算找到了他不一定肯诚心教你，就算诚心较也大概率上教不好。从本质上看**只有阅读是可靠的**\n",
    "\n",
    "我认为，找人教，交流，阅读这些事情看起来相悖，其实并不矛盾。只是你必须直到哪种途径有什么好处。比如看视频，我通常可以获得一些宝贵的经验，这点非常重要。"
   ]
  },
  {
   "cell_type": "markdown",
   "metadata": {},
   "source": [
    "### 自学是一件非常快乐的事，不是吗？\n",
    "“所以，只要你有一次 “**只靠阅读习得一项新技能**” 的经验，你就变成另外一个人了。你会不由自主、哪怕下意识里都会去运用你新习得的能力…… 从这个角度看，自学很上瘾！能上瘾，却不仅无害，还好处无穷，这样的好事，恐怕也就这一个了罢。” 李笑来说过很多次了，真的很有道理。\n"
   ]
  },
  {
   "cell_type": "markdown",
   "metadata": {},
   "source": [
    "## python开始\n",
    "\n",
    "阅读目标：**脱盲**。\n",
    "> * 你对基本概念有了一定的了解\n",
    "> * 你开始有能力相对轻松地阅读部分官方文档\n",
    "> * 你可以读懂一些简单的代码\n"
   ]
  },
  {
   "cell_type": "markdown",
   "metadata": {},
   "source": [
    "### 入门，从函数学会看文档"
   ]
  },
  {
   "cell_type": "markdown",
   "metadata": {},
   "source": [
    "语法非常类似，剩下的大部分只是看文档。"
   ]
  },
  {
   "cell_type": "markdown",
   "metadata": {},
   "source": [
    "```python\n",
    "print(*objects, sep=' ', end='\\n', file=sys.stdout, flush=False) \n",
    "# 位置参数和关键参数，带默认值的为关键参数，其余为位置参数\n",
    "# *表示为可变参数，\n",
    "exec(object[, globals[, locals]])\n",
    "# []为常规的可选项\n",
    "```"
   ]
  },
  {
   "cell_type": "markdown",
   "metadata": {},
   "source": [
    "> * 没在方括号里的 `object` 是不可或缺的参数，调用时必须提供；\n",
    "> * 可以有第二个参数，第二个参数会被接收为 `globals`；\n",
    "> * 在有第二个参数的情况下，第三个参数会被接收为 `locals`；\n",
    "> * *但是，你没办法在不指定 `globals` 这个位置参数的情况下指定 `locals`……*"
   ]
  },
  {
   "cell_type": "markdown",
   "metadata": {},
   "source": [
    "### 字符串相关\n",
    "下图很明白了\n",
    "![](../images/string-concepts.png)"
   ]
  },
  {
   "cell_type": "markdown",
   "metadata": {},
   "source": [
    "格式化输出，即format，有新的用法，也很简单就是"
   ]
  },
  {
   "cell_type": "code",
   "execution_count": 15,
   "metadata": {},
   "outputs": [
    {
     "data": {
      "text/plain": [
       "'John is 25 years old.'"
      ]
     },
     "execution_count": 15,
     "metadata": {},
     "output_type": "execute_result"
    }
   ],
   "source": [
    "name = 'John'\n",
    "age = 25\n",
    "\n",
    "'{1} is {0} years old.'.format(name, age)\n",
    "# 以上用法至少说明了两个特性\n",
    "# 1. 占位类似于jsp el\n",
    "# 2. 占位有索引\n",
    "f'{name} is {age} years old.'\n",
    "# fstring是一种简化语法"
   ]
  },
  {
   "cell_type": "markdown",
   "metadata": {},
   "source": [
    "### 容器\n",
    "![](images/容器.png)"
   ]
  },
  {
   "cell_type": "markdown",
   "metadata": {},
   "source": [
    "### 文件\n",
    "\n",
    "> * 打开文件，直接用内建函数，`open()`，基本模式有 `r` 和 `w`；\n",
    "> * 删除文件，得调用 `os` 模块，使用 `os.remove()`，删除文件前最好确认文件确实存在……\n",
    "> * 读写文件分别有 `file.read()`、`file.write()`、`file.readline()`、`file.readlines()`、`file.writelines()`；\n",
    "> * 可以用 `with` 把相关操作都放入同一个语句块……\n"
   ]
  },
  {
   "cell_type": "code",
   "execution_count": 21,
   "metadata": {},
   "outputs": [],
   "source": [
    "# 找出符合条件的单词\n",
    "def sum_of_word(word):\n",
    "    sum = 0\n",
    "    for char in word:\n",
    "        sum += ord(char) - 96;\n",
    "    return sum\n",
    "with open(\"../results.txt\",'w') as r:\n",
    "    with open(\"../words_alpha.txt\") as f:\n",
    "        for word in f.readlines():\n",
    "            if sum_of_word(word.strip()) == 100:\n",
    "                r.write(word)"
   ]
  },
  {
   "cell_type": "markdown",
   "metadata": {},
   "source": [
    "## 自学与阅读"
   ]
  },
  {
   "cell_type": "markdown",
   "metadata": {},
   "source": [
    "1. 由于过早引用的存在，读不懂太正常了。解决办法就是读不懂也要硬着头皮读完，再反复读\n",
    "2. 再读那就用“只字不差阅读”的能力\n",
    "3. 由于过早引用，记忆力很重要，但是记忆力这种东西可以训练，并且有许多其他辅助办法，比如现在这样，整理归纳总结\n",
    "4. 不管怎么样，先用起来，反正，研究透原理，不可能马上做到，需要时间漫漫。错了没关系，多用就好了，原理要进一步弄懂。"
   ]
  },
  {
   "cell_type": "markdown",
   "metadata": {},
   "source": [
    "### 读，反复读"
   ]
  },
  {
   "cell_type": "markdown",
   "metadata": {},
   "source": [
    "由于`过早引用`的存在，所以尤其是书本的结构一般都不是线性的，所以读不懂非常正常。\n",
    "所以，正确的态度，或者所解决方法，就是读，反复地读。\n",
    "1. 第一遍囫囵吞枣地读完，犯错没有关系，犯错没有关系\n",
    "2. 第二第三..遍反复读，`只字不差地读`的能力要反复训练出来"
   ]
  },
  {
   "cell_type": "markdown",
   "metadata": {},
   "source": [
    "### 笔记，整理归纳总结"
   ]
  },
  {
   "cell_type": "markdown",
   "metadata": {},
   "source": [
    "由于大量过早引用的存在，所以记忆力在学习中非常重要。但是问题在于，记忆力这件事可以训练，其二是有很多辅助的办法。\n",
    "那就是——笔记，整理归纳和总结。\n",
    "\n",
    "这其实是个非常麻烦的过程，但是学霸的特点之一就是**不怕麻烦**，比如表格、画图、列表这些都是非常好用的工具，这些都非常麻烦，但是过程也就是记忆和理解的过程，非常重要。\n",
    "**不怕麻烦**这就是自学能力的一个朴素的品质。"
   ]
  },
  {
   "cell_type": "markdown",
   "metadata": {},
   "source": [
    ">再给你看个善于学习的人的例子：\n",
    ">https://nvie.com/posts/iterators-vs-generators/\n",
    "\n",
    ">作者 Vincent Driessen 在这个帖子里写到：\n",
    "> I'm writing this post as a pocket reference for later.\n",
    "\n",
    ">人家随手做个图，都舍不得不精致：\n",
    ">![](../images/iter-relationships.gif)\n"
   ]
  },
  {
   "cell_type": "markdown",
   "metadata": {},
   "source": [
    "### 用起来，再去研究原理"
   ]
  },
  {
   "cell_type": "markdown",
   "metadata": {},
   "source": [
    "### The Python Tutorial"
   ]
  },
  {
   "cell_type": "markdown",
   "metadata": {},
   "source": [
    "官方教程文档是最好的文档，可能因为必须要全面、权威，所以可读性很一般。但说起来，这个是作者亲手写的文档，一定是必须反复读的。\n",
    "有时间一定要把多读读以下文档\n",
    "> The Python Tutorial https://docs.python.org/3/tutorial/index.html\n",
    "\n",
    "> demo https://github.com/python/cpython/tree/master/Tools/demo\n",
    "\n",
    "> style https://www.python.org/dev/peps/pep-0008/"
   ]
  },
  {
   "cell_type": "markdown",
   "metadata": {},
   "source": [
    "## 第二部分 深入"
   ]
  },
  {
   "cell_type": "markdown",
   "metadata": {},
   "source": [
    "### 写在前面\n",
    "\n",
    "1. 编程的基本就是不断拆分任务，解决所有独立的子任务。这种形式，一般很多体现为函数。所以第二部分从函数开始。\n",
    "2. **多读别人的代码**，标记问题，带着问题学习。\n",
    "3. 书中要求，所以这一节会有大量的总结部分。\n"
   ]
  },
  {
   "cell_type": "markdown",
   "metadata": {},
   "source": [
    "### Part 2总结"
   ]
  },
  {
   "cell_type": "markdown",
   "metadata": {},
   "source": [
    "#### D1-D2总结"
   ]
  },
  {
   "cell_type": "markdown",
   "metadata": {},
   "source": [
    "**函数基本**\n",
    "\n",
    "1. 函数的本质都是一段完整的程序，输入-处理-输出\n",
    "2. python中有默认返回值，None\n",
    "\n",
    "**参数基本**\n",
    "\n",
    "1. 参数有两种，位置参数和关键参数\n",
    "2. 关键参数有默认值，并且调用的时候可以不指定，这个非常方便。Java中的实现是通过重载，这无疑是一个有用的语法糖。\n",
    "\n",
    "**可变参数、可变关键参数**\n",
    "\n",
    "声明如下：\n",
    "> def func(* names) 以及 def func(** names)\n",
    "\n",
    "所有传入的参数都被容器接收，而可变关键参数则是本质上使用字典处理。因此传递的都是视为字典容器。\n",
    "\n",
    "可以对函数强制传入容器，具体则是声明为\n",
    "> func(* {...}) 以及 func(**{...})\n",
    "\n",
    "**参数顺序问题**\n",
    "\n",
    "python中规定如下：\n",
    "> 1. Positional\n",
    "> 1. Arbitrary Positional\n",
    "> 1. Keyword\n",
    "> 1. Arbitrary Keyword\n",
    "\n",
    "其实内在原因非常好理解，举个简单的例子。假如说Positional参数放在AP后面，那么编译器无法判断出可变参数有几个。通过顺序限定这件事，显然是一个很好的做法。"
   ]
  },
  {
   "cell_type": "markdown",
   "metadata": {},
   "source": [
    "### D3总结"
   ]
  },
  {
   "cell_type": "markdown",
   "metadata": {},
   "source": [
    "**lambda语法**\n",
    "\n",
    "lambda是一种匿名函数的声明语法，其重要的意义我认为是提供了一种，表达式和变量之间的中间产品，为什么这么说，比如在下面例子中，lambda作为返回值返回，接收处接收的确是一个lambda表达式。返回表达式，这本来是做不到的。\n",
    "\n",
    "但这其实是一个表面的角度，其实仔细想想，这就是函数指针。\n",
    "\n",
    "声明方式：\n",
    "\n",
    "```python\n",
    "add = lambda x, y: x + y\n",
    "#     -->   参数 : 返回值\n",
    "```\n",
    "如注释所示，要时刻记住参数位置，不然后面会迷惑。赋值add这其实是个函数重命名，相当于函数指针了。\n",
    "\n",
    "不管怎么说，看似非常简单的语法，但是却能带来诸多意想不到的应用方面的方便。\n",
    "\n",
    "**应用一、作返回值**\n",
    "\n",
    "```python\n",
    "def make_incrementor(n):\n",
    "    return lambda x: x + n\n",
    "\n",
    "f = make_incrementor(42)\n",
    "f(0)\n",
    "\n",
    "f(1)\n",
    "# 42\n",
    "# 43\n",
    "```\n",
    "例子一，这是一个让人迷惑的例子，其实很简单，只是需要特定的理解方式：首先mi函数返回了一个lambda表达式`lambda x: x + 42`，f接收了这个表达式。此时等价于`f = lambda x: x + n`这就是回到了lambda的基本用法。\n",
    "\n",
    "其实本质上，这就是返回了一个函数指针。但是在lambda语法下却显得非常优雅，我觉得这就是一个好的语法糖应该有的作用。\n",
    "\n",
    "**应用二、作为参数，map函数的使用**\n",
    "\n",
    "map简单来说就是一个帮助迭代的函数，传入处理函数，自动迭代容器，只不过这里配合lambda，虽然没有什么实质的区别，但是非常优雅。我不知道为什么要取map这个名字。\n",
    "\n",
    "```python\n",
    "a_list = [1, 3, 5]\n",
    "b_list = [2, 4, 6]\n",
    "\n",
    "list(map(lambda x, y: x * y, a_list, b_list))\n",
    "# [2, 12, 30]\n",
    "```\n",
    "map函数自动对两个列表进行迭代，这是非常非常简洁的方式，否则你需要写一个相当复杂的while函数。理解lambda的这种用法的关键是：要时刻提醒自己x，y是参数，而虽然没有看map的实现，但显然，对于两个列表迭代的当前值，都会作为参数传个lambda函数\n",
    "\n",
    "**应用三、sort**\n",
    "\n",
    "这是一个有趣的例子，sort的自定义排序是一个经典的问题，来看看lambda下的简洁。\n",
    "\n",
    "```python\n",
    "pairs = [(1, 'one'), (2, 'two'), (3, 'three'), (4, 'four')]\n",
    "pairs.sort(key=lambda p: p[1])\n",
    "pairs\n",
    "```\n",
    "没看实现，但是显然，sort函数使用了key(curValue)返回的值作为对比的对象，理解关键还是p是参数，p接收的是什么。\n",
    "\n",
    "然后再提到开头提到的*其重要的意义我认为是提供了一种，表达式和变量之间的中间产品*，这里又是一个体现。"
   ]
  },
  {
   "cell_type": "code",
   "execution_count": null,
   "metadata": {},
   "outputs": [],
   "source": []
  },
  {
   "cell_type": "markdown",
   "metadata": {},
   "source": [
    "## 疑问收集"
   ]
  },
  {
   "cell_type": "markdown",
   "metadata": {},
   "source": [
    "- BNF 标注\n",
    "- 测试驱动编程\n",
    "- 生成器\n",
    "- 装饰器\n",
    "- 迭代器"
   ]
  },
  {
   "cell_type": "code",
   "execution_count": null,
   "metadata": {},
   "outputs": [],
   "source": []
  }
 ],
 "metadata": {
  "kernelspec": {
   "display_name": "Python 3",
   "language": "python",
   "name": "python3"
  },
  "language_info": {
   "codemirror_mode": {
    "name": "ipython",
    "version": 3
   },
   "file_extension": ".py",
   "mimetype": "text/x-python",
   "name": "python",
   "nbconvert_exporter": "python",
   "pygments_lexer": "ipython3",
   "version": "3.7.1"
  },
  "toc-autonumbering": true
 },
 "nbformat": 4,
 "nbformat_minor": 2
}
