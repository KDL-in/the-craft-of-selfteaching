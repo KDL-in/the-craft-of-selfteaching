{
 "cells": [
  {
   "cell_type": "markdown",
   "metadata": {},
   "source": [
    "# 笔记"
   ]
  },
  {
   "cell_type": "markdown",
   "metadata": {
    "toc-hr-collapsed": true
   },
   "source": [
    "## 入门与脱盲"
   ]
  },
  {
   "cell_type": "markdown",
   "metadata": {},
   "source": [
    "### 你只能靠阅读来学习\n",
    "\n",
    "总会听到这样的话\n",
    "> 有些东西书中学不到\n",
    "\n",
    "有时候我也这么想，直到这个观念在我脑中生长，我已经不知道受到它多少影响。所以现在，我会选择看视频，而不是纯阅读来入门。其实这话是有一定道理的，辩证地看，但是在容忍这样的观点的同时，你必须清楚的树立这样的信念，**阅读可以学习所有东西**。"
   ]
  },
  {
   "cell_type": "markdown",
   "metadata": {},
   "source": [
    "这其中的原因在于\n",
    "> 你很难找到会的人来教你，就算找到了他不一定肯诚心教你，就算诚心较也大概率上教不好。从本质上看**只有阅读是可靠的**\n",
    "\n",
    "我认为，找人教，交流，阅读这些事情看起来相悖，其实并不矛盾。只是你必须直到哪种途径有什么好处。比如看视频，我通常可以获得一些宝贵的经验，这点非常重要。"
   ]
  },
  {
   "cell_type": "markdown",
   "metadata": {},
   "source": [
    "### 自学是一件非常快乐的事，不是吗？\n",
    "“所以，只要你有一次 “**只靠阅读习得一项新技能**” 的经验，你就变成另外一个人了。你会不由自主、哪怕下意识里都会去运用你新习得的能力…… 从这个角度看，自学很上瘾！能上瘾，却不仅无害，还好处无穷，这样的好事，恐怕也就这一个了罢。” 李笑来说过很多次了，真的很有道理。\n"
   ]
  },
  {
   "cell_type": "markdown",
   "metadata": {
    "toc-hr-collapsed": true
   },
   "source": [
    "## python开始\n",
    "\n",
    "阅读目标：**脱盲**。\n",
    "> * 你对基本概念有了一定的了解\n",
    "> * 你开始有能力相对轻松地阅读部分官方文档\n",
    "> * 你可以读懂一些简单的代码\n"
   ]
  },
  {
   "cell_type": "markdown",
   "metadata": {},
   "source": [
    "### 入门，从函数学会看文档"
   ]
  },
  {
   "cell_type": "markdown",
   "metadata": {},
   "source": [
    "语法非常类似，剩下的大部分只是看文档。"
   ]
  },
  {
   "cell_type": "markdown",
   "metadata": {},
   "source": [
    "```python\n",
    "print(*objects, sep=' ', end='\\n', file=sys.stdout, flush=False) \n",
    "# 位置参数和关键参数，带默认值的为关键参数，其余为位置参数\n",
    "# *表示为可变参数，\n",
    "exec(object[, globals[, locals]])\n",
    "# []为常规的可选项\n",
    "```"
   ]
  },
  {
   "cell_type": "markdown",
   "metadata": {},
   "source": [
    "> * 没在方括号里的 `object` 是不可或缺的参数，调用时必须提供；\n",
    "> * 可以有第二个参数，第二个参数会被接收为 `globals`；\n",
    "> * 在有第二个参数的情况下，第三个参数会被接收为 `locals`；\n",
    "> * *但是，你没办法在不指定 `globals` 这个位置参数的情况下指定 `locals`……*"
   ]
  },
  {
   "cell_type": "markdown",
   "metadata": {},
   "source": [
    "### 字符串相关\n",
    "下图很明白了\n",
    "![](../images/string-concepts.png)"
   ]
  },
  {
   "cell_type": "markdown",
   "metadata": {},
   "source": [
    "格式化输出，即format，有新的用法，也很简单就是"
   ]
  },
  {
   "cell_type": "code",
   "execution_count": 15,
   "metadata": {},
   "outputs": [
    {
     "data": {
      "text/plain": [
       "'John is 25 years old.'"
      ]
     },
     "execution_count": 15,
     "metadata": {},
     "output_type": "execute_result"
    }
   ],
   "source": [
    "name = 'John'\n",
    "age = 25\n",
    "\n",
    "'{1} is {0} years old.'.format(name, age)\n",
    "# 以上用法至少说明了两个特性\n",
    "# 1. 占位类似于jsp el\n",
    "# 2. 占位有索引\n",
    "f'{name} is {age} years old.'\n",
    "# fstring是一种简化语法"
   ]
  },
  {
   "cell_type": "markdown",
   "metadata": {},
   "source": [
    "### 容器\n",
    "![](images/容器.png)"
   ]
  },
  {
   "cell_type": "markdown",
   "metadata": {},
   "source": [
    "### 文件\n",
    "\n",
    "> * 打开文件，直接用内建函数，`open()`，基本模式有 `r` 和 `w`；\n",
    "> * 删除文件，得调用 `os` 模块，使用 `os.remove()`，删除文件前最好确认文件确实存在……\n",
    "> * 读写文件分别有 `file.read()`、`file.write()`、`file.readline()`、`file.readlines()`、`file.writelines()`；\n",
    "> * 可以用 `with` 把相关操作都放入同一个语句块……\n"
   ]
  },
  {
   "cell_type": "code",
   "execution_count": 21,
   "metadata": {},
   "outputs": [],
   "source": [
    "# 找出符合条件的单词\n",
    "def sum_of_word(word):\n",
    "    sum = 0\n",
    "    for char in word:\n",
    "        sum += ord(char) - 96;\n",
    "    return sum\n",
    "with open(\"../results.txt\",'w') as r:\n",
    "    with open(\"../words_alpha.txt\") as f:\n",
    "        for word in f.readlines():\n",
    "            if sum_of_word(word.strip()) == 100:\n",
    "                r.write(word)"
   ]
  },
  {
   "cell_type": "markdown",
   "metadata": {
    "toc-hr-collapsed": false
   },
   "source": [
    "## 自学与阅读"
   ]
  },
  {
   "cell_type": "markdown",
   "metadata": {},
   "source": [
    "1. 由于过早引用的存在，读不懂太正常了。解决办法就是读不懂也要硬着头皮读完，再反复读\n",
    "2. 再读那就用“只字不差阅读”的能力\n",
    "3. 由于过早引用，记忆力很重要，但是记忆力这种东西可以训练，并且有许多其他辅助办法，比如现在这样，整理归纳总结\n",
    "4. 不管怎么样，先用起来，反正，研究透原理，不可能马上做到，需要时间漫漫。错了没关系，多用就好了，原理要进一步弄懂。"
   ]
  },
  {
   "cell_type": "markdown",
   "metadata": {},
   "source": [
    "### 读，反复读"
   ]
  },
  {
   "cell_type": "markdown",
   "metadata": {},
   "source": [
    "由于`过早引用`的存在，所以尤其是书本的结构一般都不是线性的，所以读不懂非常正常。\n",
    "所以，正确的态度，或者所解决方法，就是读，反复地读。\n",
    "1. 第一遍囫囵吞枣地读完，犯错没有关系，犯错没有关系\n",
    "2. 第二第三..遍反复读，`只字不差地读`的能力要反复训练出来"
   ]
  },
  {
   "cell_type": "markdown",
   "metadata": {},
   "source": [
    "### 笔记，整理归纳总结"
   ]
  },
  {
   "cell_type": "markdown",
   "metadata": {},
   "source": [
    "由于大量过早引用的存在，所以记忆力在学习中非常重要。但是问题在于，记忆力这件事可以训练，其二是有很多辅助的办法。\n",
    "那就是——笔记，整理归纳和总结。\n",
    "\n",
    "这其实是个非常麻烦的过程，但是学霸的特点之一就是**不怕麻烦**，比如表格、画图、列表这些都是非常好用的工具，这些都非常麻烦，但是过程也就是记忆和理解的过程，非常重要。\n",
    "**不怕麻烦**这就是自学能力的一个朴素的品质。"
   ]
  },
  {
   "cell_type": "markdown",
   "metadata": {},
   "source": [
    ">再给你看个善于学习的人的例子：\n",
    ">https://nvie.com/posts/iterators-vs-generators/\n",
    "\n",
    ">作者 Vincent Driessen 在这个帖子里写到：\n",
    "> I'm writing this post as a pocket reference for later.\n",
    "\n",
    ">人家随手做个图，都舍不得不精致：\n",
    ">![](../images/iter-relationships.gif)\n"
   ]
  },
  {
   "cell_type": "markdown",
   "metadata": {},
   "source": [
    "### 用起来，再去研究原理"
   ]
  },
  {
   "cell_type": "markdown",
   "metadata": {},
   "source": [
    "### The Python Tutorial"
   ]
  },
  {
   "cell_type": "markdown",
   "metadata": {},
   "source": [
    "官方教程文档是最好的文档，可能因为必须要全面、权威，所以可读性很一般。但说起来，这个是作者亲手写的文档，一定是必须反复读的。\n",
    "有时间一定要把多读读以下文档\n",
    "> The Python Tutorial https://docs.python.org/3/tutorial/index.html\n",
    "\n",
    "> demo https://github.com/python/cpython/tree/master/Tools/demo\n",
    "\n",
    "> style https://www.python.org/dev/peps/pep-0008/"
   ]
  },
  {
   "cell_type": "markdown",
   "metadata": {
    "toc-hr-collapsed": true
   },
   "source": [
    "## 第二部分 深入"
   ]
  },
  {
   "cell_type": "markdown",
   "metadata": {},
   "source": [
    "### 写在前面\n",
    "\n",
    "1. 编程的基本就是不断拆分任务，解决所有独立的子任务。这种形式，一般很多体现为函数。所以第二部分从函数开始。\n",
    "2. **多读别人的代码**，标记问题，带着问题学习。\n",
    "3. 书中要求，所以这一节会有大量的总结部分。\n"
   ]
  },
  {
   "cell_type": "markdown",
   "metadata": {},
   "source": [
    "### Part 2总结"
   ]
  },
  {
   "cell_type": "markdown",
   "metadata": {},
   "source": [
    "#### D1-D2总结"
   ]
  },
  {
   "cell_type": "markdown",
   "metadata": {},
   "source": [
    "**函数基本**\n",
    "\n",
    "1. 函数的本质都是一段完整的程序，输入-处理-输出\n",
    "2. python中有默认返回值，None\n",
    "\n",
    "**参数基本**\n",
    "\n",
    "1. 参数有两种，位置参数和关键参数\n",
    "2. 关键参数有默认值，并且调用的时候可以不指定，这个非常方便。Java中的实现是通过重载，这无疑是一个有用的语法糖。\n",
    "\n",
    "**可变参数、可变关键参数**\n",
    "\n",
    "声明如下：\n",
    "> def func(* names) 以及 def func(** names)\n",
    "\n",
    "所有传入的参数都被容器接收，而可变关键参数则是本质上使用字典处理。因此传递的都是视为字典容器。\n",
    "\n",
    "可以对函数强制传入容器，具体则是声明为\n",
    "> func(* {...}) 以及 func(**{...})\n",
    "\n",
    "**参数顺序问题**\n",
    "\n",
    "python中规定如下：\n",
    "> 1. Positional\n",
    "> 1. Arbitrary Positional\n",
    "> 1. Keyword\n",
    "> 1. Arbitrary Keyword\n",
    "\n",
    "其实内在原因非常好理解，举个简单的例子。假如说Positional参数放在AP后面，那么编译器无法判断出可变参数有几个。通过顺序限定这件事，显然是一个很好的做法。"
   ]
  },
  {
   "cell_type": "markdown",
   "metadata": {},
   "source": [
    "#### D3总结"
   ]
  },
  {
   "cell_type": "markdown",
   "metadata": {},
   "source": [
    "**lambda语法**\n",
    "\n",
    "lambda是一种匿名函数的声明语法，其重要的意义我认为是提供了一种，表达式和变量之间的中间产品，为什么这么说，比如在下面例子中，lambda作为返回值返回，接收处接收的确是一个lambda表达式。返回表达式，这本来是做不到的。\n",
    "\n",
    "但这其实是一个表面的角度，其实仔细想想，这就是函数指针。\n",
    "\n",
    "声明方式：\n",
    "\n",
    "```python\n",
    "add = lambda x, y: x + y\n",
    "#     -->   参数 : 返回值\n",
    "```\n",
    "如注释所示，要时刻记住参数位置，不然后面会迷惑。赋值add这其实是个函数重命名，相当于函数指针了。\n",
    "\n",
    "不管怎么说，看似非常简单的语法，但是却能带来诸多意想不到的应用方面的方便。\n",
    "\n",
    "**应用一、作返回值**\n",
    "\n",
    "```python\n",
    "def make_incrementor(n):\n",
    "    return lambda x: x + n\n",
    "\n",
    "f = make_incrementor(42)\n",
    "f(0)\n",
    "\n",
    "f(1)\n",
    "# 42\n",
    "# 43\n",
    "```\n",
    "例子一，这是一个让人迷惑的例子，其实很简单，只是需要特定的理解方式：首先mi函数返回了一个lambda表达式`lambda x: x + 42`，f接收了这个表达式。此时等价于`f = lambda x: x + n`这就是回到了lambda的基本用法。\n",
    "\n",
    "其实本质上，这就是返回了一个函数指针。但是在lambda语法下却显得非常优雅，我觉得这就是一个好的语法糖应该有的作用。\n",
    "\n",
    "**应用二、作为参数，map函数的使用**\n",
    "\n",
    "map简单来说就是一个帮助迭代的函数，传入处理函数，自动迭代容器，只不过这里配合lambda，虽然没有什么实质的区别，但是非常优雅。我不知道为什么要取map这个名字。\n",
    "\n",
    "```python\n",
    "a_list = [1, 3, 5]\n",
    "b_list = [2, 4, 6]\n",
    "\n",
    "list(map(lambda x, y: x * y, a_list, b_list))\n",
    "# [2, 12, 30]\n",
    "```\n",
    "map函数自动对两个列表进行迭代，这是非常非常简洁的方式，否则你需要写一个相当复杂的while函数。理解lambda的这种用法的关键是：要时刻提醒自己x，y是参数，而虽然没有看map的实现，但显然，对于两个列表迭代的当前值，都会作为参数传个lambda函数\n",
    "\n",
    "**应用三、sort**\n",
    "\n",
    "这是一个有趣的例子，sort的自定义排序是一个经典的问题，来看看lambda下的简洁。\n",
    "\n",
    "```python\n",
    "pairs = [(1, 'one'), (2, 'two'), (3, 'three'), (4, 'four')]\n",
    "pairs.sort(key=lambda p: p[1])\n",
    "pairs\n",
    "```\n",
    "没看实现，但是显然，sort函数使用了key(curValue)返回的值作为对比的对象，理解关键还是p是参数，p接收的是什么。\n",
    "\n",
    "然后再提到开头提到的*其重要的意义我认为是提供了一种，表达式和变量之间的中间产品*，这里又是一个体现。"
   ]
  },
  {
   "cell_type": "markdown",
   "metadata": {},
   "source": [
    "#### D4-D5总结"
   ]
  },
  {
   "cell_type": "markdown",
   "metadata": {},
   "source": [
    "python中的帮助文档叫docstrings，工具叫sphinx。这些都应该好好学会，不要在这些约束、规范、文档方面将就，那就是一辈子将就。\n",
    "\n",
    "```python\n",
    "def say_hi(*names, greeting='Hello', capitalized=False):\n",
    "    \"\"\"\n",
    "    Print a string, with a greeting to everyone.\n",
    "    :param *names: tuple of names to be greeted.\n",
    "    :param greeting: 'Hello' as default.\n",
    "    :param capitalized: Whether name should be converted to capitalized before print. False as default.\n",
    "    :returns: None\n",
    "    \"\"\"\n",
    "````"
   ]
  },
  {
   "cell_type": "markdown",
   "metadata": {},
   "source": [
    "#### D6总结"
   ]
  },
  {
   "cell_type": "markdown",
   "metadata": {},
   "source": [
    "**模块**\n",
    "\n",
    "python中模块指的是.py的文件，这个需要注意，模块这个词实在到处可见，而且都有不同含义。\n",
    "\n",
    "**引入语法**\n",
    "\n",
    "```python\n",
    "# 以下展示了定义临时环境变量的方法\n",
    "import sys\n",
    "sys.path.append(\"/My/Path/To/Module/Directory\")\n",
    "import my_module \n",
    "# 以下展示了自定义命名，对象可以是函数，模块，等等\n",
    "from mycode import is_prime as isp\n",
    "```"
   ]
  },
  {
   "cell_type": "markdown",
   "metadata": {},
   "source": [
    "上面直接import和from xx import，后者可以不再需要sys.前缀，后者的语法含义为，引入sys.py中的所有函数，或者引入sys文件夹中的所有.py文件"
   ]
  },
  {
   "cell_type": "markdown",
   "metadata": {},
   "source": [
    "#### D7总结"
   ]
  },
  {
   "cell_type": "markdown",
   "metadata": {},
   "source": [
    "**测试驱动编程** 重要概念，先*全面*地假设测试结果，再从结果逆推出源程序的过程。其中最重要的的全面，全面不是一件容易的事，其次是，先考虑测试结果，可能会容易很多。"
   ]
  },
  {
   "cell_type": "markdown",
   "metadata": {},
   "source": [
    "#### D8总结"
   ]
  },
  {
   "cell_type": "markdown",
   "metadata": {},
   "source": [
    ".py本身就是可执行的程序。如果在命令行中直接`python xxx.py`或者`python -m xxx`调用的话，会自动默认模块名为`__main__`。通过`__name__`变量可以做到一些事，这个关键字是这样的，*如果import进一个模块，则__name__为模块名，直接执行则为__main__*。只要稍微判断一下，可以做到引入不执行，这样的事。\n",
    "\n",
    "其二是python中.py加载就会默认是一种执行状态，比方说this.py，也就是想到达到加载不执行，只能使用__name__"
   ]
  },
  {
   "cell_type": "markdown",
   "metadata": {
    "toc-hr-collapsed": false
   },
   "source": [
    "## 第三部分 难点"
   ]
  },
  {
   "cell_type": "markdown",
   "metadata": {},
   "source": [
    "### 挑战难点"
   ]
  },
  {
   "cell_type": "markdown",
   "metadata": {},
   "source": [
    "学习曲线陡峭，难学的东西，都是禁不起拆解和推敲的——*只是把任务拆解成小任务，再足以用心解决即可，用心的含义是：刻意思考以及刻意练习*，说通俗一点，就是世上无难事，只怕有心人。"
   ]
  },
  {
   "cell_type": "markdown",
   "metadata": {},
   "source": [
    "**学习本应该是枯燥的**，我很久以前就有这样的想法——*严肃的知识不可能有趣。*现在看来，还是过于不彻底。**预期知识有趣、好学，幽默本不切实际的想法，知识首先本质应该上枯燥的。有趣，幽默，需要自己去应用，自己去创造。但凡知识中的那些有趣、平易近人的部分，都是作者绞尽脑汁造成的，最好不要依赖它们，总量上来看，它们太少了……**"
   ]
  },
  {
   "cell_type": "markdown",
   "metadata": {},
   "source": [
    "### 类"
   ]
  },
  {
   "cell_type": "markdown",
   "metadata": {},
   "source": [
    "类和面向对象思维。简单，比较有趣的是一个角度：当你作为创造者去看面向对象这件事上时看到的其实是一堆类，当你以使用者的角度去看时看到的是一堆对象，显然后者才是面向对象思想所推崇的状态，但很多时候对于我们学习者（创造者）基本都是前者。\n",
    "\n",
    "再次，面向对象的反对者是一小部分大牛。"
   ]
  },
  {
   "cell_type": "markdown",
   "metadata": {},
   "source": [
    "**构造函数**\n",
    "\n",
    "````python\n",
    " def __init__(self, name=None):\n",
    "        self.name = name\n",
    "        self.built_year = datetime.date.today().year\n",
    "````\n",
    "\n",
    "第一点是构造函数的命名，第二点是关键参数的存在一定程度上替代了构造函数的重载，第三点是最重要的区别，self变量，见下面。\n",
    "\n",
    "**继承、重写、重载**\n",
    "\n",
    "继承目前来看好像是单继承，确实好像没有重载，重写的话有的。都很简单。\n",
    "\n",
    "**查看一个类**\n",
    "\n",
    "1. help(object)\n",
    "2. dir(object)\n",
    "3. object._ _dict__\n",
    "\n",
    "1和3是比较好的方式，dir会列出所有属性。\n",
    "\n",
    "**变量：私有、初始化、静态变量、成员变量**\n",
    "\n",
    "python的变量方面，比较有特点。\n",
    "\n",
    "*没有修饰符*，取而代之，私有化，使用的是语法糖`__`.\n",
    "\n",
    "而所谓的静态变量，全局变量，等等一些东西，好像都不存在。代替的有趣的设定是*类属性*，很容易和以前类成员混淆，但它确实是共享的变量。\n",
    "\n",
    "*初始化工作，全由init方法实现*，没有静态块，静态初始化。\n",
    "\n",
    "*self对对象成员变量进行管理*，实质上，self是对象的引用，但表现出来确实是self管理了所有成员变量。\n",
    "\n",
    "**作用域**\n",
    "\n",
    "这个相当重要，python中的作用域是以这样的形式存在的。\n",
    "\n",
    "> * ① `class Golem` 之外；\n",
    "> * ② `class Golem` 之内；\n",
    "> * ③ `__init__(self, name=None)` 之内；\n",
    "> * ④ `cease(self)` 之内；\n",
    "\n",
    "类内外首先划分了一个区域，其次就是类属性，再就是类成员变量，最后是函数局部变量。要注意一点就是，类属性并不能再方法中被直接引用，实质就是，在方法作用域内，self作用域（对象作用域内），类属性并不在其中。也就是没有形式上的包含。\n",
    "\n",
    "**封装**\n",
    "\n",
    "```python\n",
    "    ...\n",
    "    \n",
    "    @property\n",
    "    def population(self):\n",
    "        return Golem.__population\n",
    "    \n",
    "    @population.setter\n",
    "    def population(self, value):\n",
    "        Golem.__population = value\n",
    "\n",
    "```\n",
    "\n",
    "加了注入之后，直接属性调用的时候默认调用方法，语法糖。\n",
    "\n"
   ]
  },
  {
   "cell_type": "markdown",
   "metadata": {
    "toc-hr-collapsed": true
   },
   "source": [
    "### 迭代器、生成器、装饰器"
   ]
  },
  {
   "cell_type": "markdown",
   "metadata": {},
   "source": [
    "#### 迭代器\n",
    "\n",
    "迭代器有两种基本的使用方式，一种是foreach中使用，第二种是next\n",
    "\n",
    "````python\n",
    "# 第一种方法\n",
    "for c in string:\n",
    "    print(c, end=', ')\n",
    "    \n",
    "# 第二种方法\n",
    "while True:\n",
    "    try:\n",
    "        print(next(c), sep=', ')\n",
    "    except StopIteration:\n",
    "        break\n",
    "\n",
    "````\n",
    "\n",
    "以上，很快就能理解迭代器是什么。python中的迭代器并不需要自定义类实现接口，而是约定俗称的，要求写两个方法`__iter__(self)` 和 `__next__(self)`。定义这两个方法之后，就会被自动识别会可迭代类型，可以使用常规的迭代方式\n",
    "\n",
    "自定义方法如下：\n",
    "\n",
    "````python\n",
    "class Counter(object):\n",
    "    def __init__(self, start, stop):\n",
    "        self.current = start\n",
    "        self.stop = stop\n",
    "    def __iter__(self):\n",
    "        return self\n",
    "    def __next__(self):\n",
    "        if self.current > self.stop:\n",
    "            raise StopIteration\n",
    "        else:\n",
    "            c = self.current\n",
    "            self.current += 1\n",
    "        return c\n",
    "````"
   ]
  },
  {
   "cell_type": "markdown",
   "metadata": {},
   "source": [
    "#### 生成器\n",
    "\n",
    "这个我有点疑问，很难说明它是什么，但是以上定义的counter可以使用函数实现。要记住的是，python中函数是一个类的实例。\n",
    "\n",
    "````python\n",
    "def counter(start, stop):\n",
    "    while start <= stop:\n",
    "        yield start\n",
    "        start += 1\n",
    "for i in counter(101, 105):\n",
    "    print(i)\n",
    "````\n",
    "\n",
    "yield是什么呢，不清楚，现在只知道它类似一个return，但并不会结束函数。\n",
    "\n",
    "生成器的第二种用法为，生成器表达式，之前遍历容器的时候使用过。\n",
    "\n",
    "````python\n",
    "even = (e for e in range(10) if not e % 2)\n",
    "````\n",
    "\n",
    "以上要注意的一点就是，右边生成器表达式，*外部使用（）则返回的是迭代器，使用{}返回集合，使用[]返回列表*"
   ]
  },
  {
   "cell_type": "markdown",
   "metadata": {},
   "source": [
    "#### 装饰器\n",
    "\n",
    "装饰器大概类似于代理模式，但是它可以直接对方法进行装饰，本质上是因为**python中函数就是类实例**，这个是装饰器实现的基础。\n",
    "\n",
    "基本使用如下：\n",
    "\n",
    "````python\n",
    "def a_decorator(func):\n",
    "    def wrapper():\n",
    "        print('We can do sth. before calling a_func...')\n",
    "        func()\n",
    "        print('... and we can do sth. after it was called...')\n",
    "    return wrapper\n",
    "\n",
    "@a_decorator\n",
    "def a_func():\n",
    "    print(\"Hi, I'm a_func!\")\n",
    "    \n",
    "a_func()\n",
    "````\n",
    "原理如下：\n",
    "\n",
    "实际上，注解了之后，代码将会变成，a_func = a_decorator(func)，然后调用a_func()，这就很容易理解，为什么要在函数中嵌套定义函数，并且返回函数本身，注意，函数本身会被“完美返回”，就是说返回的不是函数的名字，而就是一个可以执行的函数。\n",
    "\n",
    "**带参数如何嵌套**\n",
    "\n",
    "事实上，和上面原理几乎一样，只不过仅仅需要把wrapper中加上可变参数和可变关键参数即可。注意，理解它必须理解可变参数的本质：列表和字典。\n",
    "\n",
    "至于，内部注解后会把代码变成什么样，这种细节无需关注\n",
    "\n",
    "**总结**\n",
    "\n",
    "装饰器太方便了，可以对函数进行无限嵌套，而且不需要写成代理模式。又是一个非常优雅的语法糖"
   ]
  },
  {
   "cell_type": "markdown",
   "metadata": {},
   "source": [
    "### 正则"
   ]
  },
  {
   "cell_type": "markdown",
   "metadata": {},
   "source": [
    "正则是一门小语言，以往对它的重视还是不够，在不同场合学了好多次，时间一过就容易忘了。\n",
    "\n",
    "姿势不对，正确的，必要的理解方式是：基本上就是由原子和操作符组成的。原子，非常重要的概念。\n",
    "\n",
    "![](images/正则表达式.png)\n",
    "\n",
    "**捕获**\n",
    "\n",
    "这是一个容易错误理解的概念。先看例子。\n",
    "\n",
    "````python\n",
    "import re\n",
    "str = 'The white dog wears a black hat.'\n",
    "pttn = r'The (white|black) dog wears a (white|black) hat.'\n",
    "re.findall(pttn, str)\n",
    "\n",
    "repl = r'The \\2 dog wears a \\1 hat.'\n",
    "re.sub(pttn, repl, str)\n",
    "\n",
    "# [('white', 'black')]\n",
    "# 'The black dog wears a white hat.'\n",
    "````\n",
    "你看，使用捕获之后，re匹配的结果就是捕获到的，`The (white|black) dog wears a (white|black) hat.`中的部分词，组成一个元组。\n",
    "\n",
    "然后，可以使用这个元组，\\2,\\1这样。\n",
    "\n",
    "*（）本身也是组合原子，容易误用捕获*，一般声明为非捕获，对比以上，这次匹配结果就是一句话而不是元组。\n",
    "\n",
    "````python\n",
    "import re\n",
    "str = 'The white dog wears a black hat.'\n",
    "pttn = r'The (?:white|black) dog wears a (?:white|black) hat.'\n",
    "re.findall(pttn, str)    \n",
    "\n",
    "# ['The white dog wears a black hat.']\n",
    "````"
   ]
  },
  {
   "cell_type": "markdown",
   "metadata": {},
   "source": [
    "### BNF范式"
   ]
  },
  {
   "cell_type": "markdown",
   "metadata": {},
   "source": [
    "python语言语法定义规范。看一个简单的例子。\n",
    "\n",
    "```\n",
    "integer ::= [sign] digit +\n",
    "sign    ::= \"+\" | \"-\"\n",
    "digit   ::=  \"0\" | \"1\" | \"2\" | \"3\" | \"4\" | \"5\" | \"6\" | \"7\" | \"8\" | \"9\"\n",
    "``` \n",
    "定义语言的语法，其实很简单。\n",
    "\n",
    "> * `::=` 表示定义；\n",
    "> * `< >` 尖括号里的内容表示必选内容；\n",
    "> * `[ ]` 中是可选项；\n",
    "> * `\" \"` 双引号里的内容表示字符；\n",
    "> * ` | ` 竖线两边的是可选内容，相当于or；\n",
    "> * ` * ` 表示零个或者多个……\n",
    "> * ` + ` 表示一个或者多个……\n",
    "\n",
    "**读懂官方文档，这是一个挺高级的技能，但又是一个很惋惜的技能。我认为，作者鼓吹的过于简单，但是，这种能力必须，必须训练出来。这太重要了。** 我不喜欢强迫自己，但这件事，忍一忍！"
   ]
  },
  {
   "cell_type": "markdown",
   "metadata": {
    "toc-hr-collapsed": true
   },
   "source": [
    "### 能力"
   ]
  },
  {
   "cell_type": "markdown",
   "metadata": {},
   "source": [
    "#### 拆解的能力\n",
    "\n",
    "很多时候，做任何事都是一个拆解的过程。就像编程一样，大模块拆分成小模块，小模块拆分成类和函数，函数再拆分成段落代码。这里比较有意思的观点是，像编程，像各种各样的项目，做各种各样的事，最终会发现，人们看到输出结果的过程其实通常都非常快，*真正核心部分是前面的拆解，理清楚所有细节。*这很好理解，就像刷oj的题一样，我没有真正确定地意识到，我在做大部分都应该是细化所有细节。\n",
    "\n",
    "以刷题的角度可以非常好的理解这个能力以及这种观点的重要性，这是一个相当重要的能力，会在以后不断地应用。编程，自学，立项，做事所有事，都不过只是琢磨和拆解。"
   ]
  },
  {
   "cell_type": "markdown",
   "metadata": {},
   "source": [
    "#### 幻觉\n",
    "\n",
    "令我非常沮丧的是，我发现我自学能力非常底下，我甚至没有过这种“自学成功的经历”。回过头来看，我有很多遗憾就是“学了暂时也没什么用”，“这个怎么可能那么快学会”导致的。我一直以来的自学方式就是最简单的模仿，从来没有用心去琢磨。想一想我备考考研的经历，可不是每天都在琢磨。\n",
    "\n",
    "你看作者甚至已经写出我看不太懂的代码了。"
   ]
  },
  {
   "cell_type": "markdown",
   "metadata": {},
   "source": [
    "#### 自学者的素养\n",
    "\n",
    "**全面**\n",
    "\n",
    "全面是一种思维模式，考虑全面，其实可以连同各种各样的场景。编程、生活、基于理解的温柔等等，需要调动理性和自控力才能完成的高级动作，或者说高级能力。\n",
    "\n",
    "**完整**\n",
    "\n",
    "*Talk is cheep，show me you code*，进一步来说，有没有完整的作品？这并不简单，就比如说我，有完整的作品吗？"
   ]
  },
  {
   "cell_type": "markdown",
   "metadata": {},
   "source": [
    "## 总结与反思"
   ]
  },
  {
   "cell_type": "markdown",
   "metadata": {},
   "source": [
    "我的过往，充满了将就和囫囵吞枣，应该说是全部都是。半吊子的后果是，现在仿佛留下了后遗症，我慢慢感觉到改变它的困难……仿佛已经留下了硬伤。就比如说，对于英文资料的使用，我发现我好像毫无起色，这是一件羞耻，也是极大的失败。\n",
    "\n",
    "不过，话说回来，这种问题，一旦意识到很大程度已经不再是问题。所以往后，我将以完整和全面作为灵魂，做一个真正的自学者，终身学习者。\n",
    "\n",
    "放到当下而言，首先是重新看一遍笔记，然后是使用全英材料，从现在开始改变，这是一个非常合适的时间。"
   ]
  },
  {
   "cell_type": "markdown",
   "metadata": {
    "toc-hr-collapsed": true
   },
   "source": [
    "## 疑问收集"
   ]
  }
 ],
 "metadata": {
  "kernelspec": {
   "display_name": "Python 3",
   "language": "python",
   "name": "python3"
  },
  "language_info": {
   "codemirror_mode": {
    "name": "ipython",
    "version": 3
   },
   "file_extension": ".py",
   "mimetype": "text/x-python",
   "name": "python",
   "nbconvert_exporter": "python",
   "pygments_lexer": "ipython3",
   "version": "3.7.1"
  },
  "toc-autonumbering": true
 },
 "nbformat": 4,
 "nbformat_minor": 2
}
